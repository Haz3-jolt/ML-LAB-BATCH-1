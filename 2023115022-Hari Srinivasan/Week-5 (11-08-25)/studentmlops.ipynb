{
 "cells": [
  {
   "cell_type": "markdown",
   "id": "d1f32a00",
   "metadata": {},
   "source": [
    "#### Implement Polynomial Regression for predicting non-linear relationships between variables and integrate MLOps practices for reproducibility and model tracking\n"
   ]
  },
  {
   "cell_type": "code",
   "execution_count": 1,
   "id": "f51c45dd",
   "metadata": {},
   "outputs": [
    {
     "name": "stdout",
     "output_type": "stream",
     "text": [
      "Dataset shape: (10, 2)\n",
      "\n",
      "First few rows:\n",
      "   Hours_Studied  Score\n",
      "0            1.0     10\n",
      "1            2.0     25\n",
      "2            3.0     35\n",
      "3            4.0     50\n",
      "4            5.0     65\n",
      "\n",
      "Dataset info:\n",
      "<class 'pandas.core.frame.DataFrame'>\n",
      "RangeIndex: 10 entries, 0 to 9\n",
      "Data columns (total 2 columns):\n",
      " #   Column         Non-Null Count  Dtype  \n",
      "---  ------         --------------  -----  \n",
      " 0   Hours_Studied  10 non-null     float64\n",
      " 1   Score          10 non-null     int64  \n",
      "dtypes: float64(1), int64(1)\n",
      "memory usage: 292.0 bytes\n",
      "None\n",
      "\n",
      "Dataset description:\n",
      "       Hours_Studied      Score\n",
      "count       10.00000  10.000000\n",
      "mean         5.50000  62.000000\n",
      "std          3.02765  30.811253\n",
      "min          1.00000  10.000000\n",
      "25%          3.25000  38.750000\n",
      "50%          5.50000  67.500000\n",
      "75%          7.75000  87.250000\n",
      "max         10.00000  98.000000\n"
     ]
    }
   ],
   "source": [
    "import pandas as pd\n",
    "import numpy as np\n",
    "import matplotlib.pyplot as plt\n",
    "import seaborn as sns\n",
    "from sklearn.model_selection import train_test_split\n",
    "from sklearn.preprocessing import PolynomialFeatures\n",
    "from sklearn.linear_model import LinearRegression\n",
    "from sklearn.metrics import mean_squared_error, r2_score\n",
    "import mlflow\n",
    "import mlflow.sklearn\n",
    "from sklearn.pipeline import Pipeline\n",
    "import joblib\n",
    "import os\n",
    "\n",
    "# Load the dataset\n",
    "df = pd.read_csv('dataset/student_scores_v1.csv')\n",
    "\n",
    "# Display basic information about the dataset\n",
    "print(\"Dataset shape:\", df.shape)\n",
    "print(\"\\nFirst few rows:\")\n",
    "print(df.head())\n",
    "print(\"\\nDataset info:\")\n",
    "print(df.info())\n",
    "print(\"\\nDataset description:\")\n",
    "print(df.describe())"
   ]
  }
 ],
 "metadata": {
  "kernelspec": {
   "display_name": "it23504-machine-learning",
   "language": "python",
   "name": "python3"
  },
  "language_info": {
   "codemirror_mode": {
    "name": "ipython",
    "version": 3
   },
   "file_extension": ".py",
   "mimetype": "text/x-python",
   "name": "python",
   "nbconvert_exporter": "python",
   "pygments_lexer": "ipython3",
   "version": "3.13.5"
  }
 },
 "nbformat": 4,
 "nbformat_minor": 5
}
